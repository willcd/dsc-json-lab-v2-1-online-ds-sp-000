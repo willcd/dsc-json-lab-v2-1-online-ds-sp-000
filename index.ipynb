{
 "cells": [
  {
   "cell_type": "markdown",
   "metadata": {},
   "source": [
    "# JSON - Lab"
   ]
  },
  {
   "cell_type": "markdown",
   "metadata": {},
   "source": [
    "## Introduction\n",
    "\n",
    "In this lab, you'll practice navigating JSON data structures."
   ]
  },
  {
   "cell_type": "markdown",
   "metadata": {},
   "source": [
    "## Objectives\n",
    "You will be able to:\n",
    "* Use the JSON module to load and parse JSON documents"
   ]
  },
  {
   "cell_type": "markdown",
   "metadata": {},
   "source": [
    "## JSON"
   ]
  },
  {
   "cell_type": "markdown",
   "metadata": {},
   "source": [
    "### Open the dataset from json"
   ]
  },
  {
   "cell_type": "code",
   "execution_count": 1,
   "metadata": {},
   "outputs": [],
   "source": [
    "#Your code here\n",
    "import json\n",
    "f = open('nyc_2001_campaign_finance.json')\n",
    "data = json.load(f)"
   ]
  },
  {
   "cell_type": "markdown",
   "metadata": {},
   "source": [
    "### What is the root data type of the json file?"
   ]
  },
  {
   "cell_type": "code",
   "execution_count": 2,
   "metadata": {},
   "outputs": [
    {
     "data": {
      "text/plain": [
       "dict"
      ]
     },
     "execution_count": 2,
     "metadata": {},
     "output_type": "execute_result"
    }
   ],
   "source": [
    "### Your code here\n",
    "type(data)"
   ]
  },
  {
   "cell_type": "markdown",
   "metadata": {},
   "source": [
    "### Navigate to the 'data' key of your loaded json object. What data type is this?"
   ]
  },
  {
   "cell_type": "code",
   "execution_count": 3,
   "metadata": {},
   "outputs": [
    {
     "data": {
      "text/plain": [
       "list"
      ]
     },
     "execution_count": 3,
     "metadata": {},
     "output_type": "execute_result"
    }
   ],
   "source": [
    "#Your code here\n",
    "type(data['data'])"
   ]
  },
  {
   "cell_type": "markdown",
   "metadata": {},
   "source": [
    "### Preview the first entry from the value returned by the 'data' key above."
   ]
  },
  {
   "cell_type": "code",
   "execution_count": 4,
   "metadata": {},
   "outputs": [
    {
     "data": {
      "text/plain": [
       "[1,\n",
       " 'E3E9CC9F-7443-43F6-94AF-B5A0F802DBA1',\n",
       " 1,\n",
       " 1315925633,\n",
       " '392904',\n",
       " 1315925633,\n",
       " '392904',\n",
       " '{\\n  \"invalidCells\" : {\\n    \"1519001\" : \"TOTALPAY\",\\n    \"1518998\" : \"PRIMARYPAY\",\\n    \"1519000\" : \"RUNOFFPAY\",\\n    \"1518999\" : \"GENERALPAY\",\\n    \"1518994\" : \"OFFICECD\",\\n    \"1518996\" : \"OFFICEDIST\",\\n    \"1518991\" : \"ELECTION\"\\n  }\\n}',\n",
       " None,\n",
       " 'CANDID',\n",
       " 'CANDNAME',\n",
       " None,\n",
       " 'OFFICEBORO',\n",
       " None,\n",
       " 'CANCLASS',\n",
       " None,\n",
       " None,\n",
       " None,\n",
       " None]"
      ]
     },
     "execution_count": 4,
     "metadata": {},
     "output_type": "execute_result"
    }
   ],
   "source": [
    "#Your code here\n",
    "data['data'][0]"
   ]
  },
  {
   "cell_type": "markdown",
   "metadata": {},
   "source": [
    "### Preview the Entry under meta -> view -> columns (the keys of three successively nested dictionaries)"
   ]
  },
  {
   "cell_type": "code",
   "execution_count": 6,
   "metadata": {},
   "outputs": [
    {
     "data": {
      "text/plain": [
       "{'id': -1,\n",
       " 'name': 'sid',\n",
       " 'dataTypeName': 'meta_data',\n",
       " 'fieldName': ':sid',\n",
       " 'position': 0,\n",
       " 'renderTypeName': 'meta_data',\n",
       " 'format': {},\n",
       " 'flags': ['hidden']}"
      ]
     },
     "execution_count": 6,
     "metadata": {},
     "output_type": "execute_result"
    }
   ],
   "source": [
    "# Your code here\n",
    "data['meta']['view']['columns'][0]"
   ]
  },
  {
   "cell_type": "markdown",
   "metadata": {},
   "source": [
    "### Create a DataFrame from your json data\n",
    "The previous two questions previewed one entry from the data object within the json file, as well as the column details associated with that data from the meta entry within the json file. Both should have 19 entries. Create a pandas DataFrame of the data. Be sure to use the information from the meta entry to add appropriate column names to your DataFrame."
   ]
  },
  {
   "cell_type": "code",
   "execution_count": 32,
   "metadata": {},
   "outputs": [
    {
     "data": {
      "text/html": [
       "<div>\n",
       "<style scoped>\n",
       "    .dataframe tbody tr th:only-of-type {\n",
       "        vertical-align: middle;\n",
       "    }\n",
       "\n",
       "    .dataframe tbody tr th {\n",
       "        vertical-align: top;\n",
       "    }\n",
       "\n",
       "    .dataframe thead th {\n",
       "        text-align: right;\n",
       "    }\n",
       "</style>\n",
       "<table border=\"1\" class=\"dataframe\">\n",
       "  <thead>\n",
       "    <tr style=\"text-align: right;\">\n",
       "      <th></th>\n",
       "      <th>sid</th>\n",
       "      <th>id</th>\n",
       "      <th>position</th>\n",
       "      <th>created_at</th>\n",
       "      <th>created_meta</th>\n",
       "      <th>updated_at</th>\n",
       "      <th>updated_meta</th>\n",
       "      <th>meta</th>\n",
       "      <th>ELECTION</th>\n",
       "      <th>CANDID</th>\n",
       "      <th>CANDNAME</th>\n",
       "      <th>OFFICECD</th>\n",
       "      <th>OFFICEBORO</th>\n",
       "      <th>OFFICEDIST</th>\n",
       "      <th>CANCLASS</th>\n",
       "      <th>PRIMARYPAY</th>\n",
       "      <th>GENERALPAY</th>\n",
       "      <th>RUNOFFPAY</th>\n",
       "      <th>TOTALPAY</th>\n",
       "    </tr>\n",
       "  </thead>\n",
       "  <tbody>\n",
       "    <tr>\n",
       "      <th>0</th>\n",
       "      <td>1</td>\n",
       "      <td>E3E9CC9F-7443-43F6-94AF-B5A0F802DBA1</td>\n",
       "      <td>1</td>\n",
       "      <td>1315925633</td>\n",
       "      <td>392904</td>\n",
       "      <td>1315925633</td>\n",
       "      <td>392904</td>\n",
       "      <td>{\\n  \"invalidCells\" : {\\n    \"1519001\" : \"TOTA...</td>\n",
       "      <td>None</td>\n",
       "      <td>CANDID</td>\n",
       "      <td>CANDNAME</td>\n",
       "      <td>None</td>\n",
       "      <td>OFFICEBORO</td>\n",
       "      <td>None</td>\n",
       "      <td>CANCLASS</td>\n",
       "      <td>None</td>\n",
       "      <td>None</td>\n",
       "      <td>None</td>\n",
       "      <td>None</td>\n",
       "    </tr>\n",
       "    <tr>\n",
       "      <th>1</th>\n",
       "      <td>2</td>\n",
       "      <td>9D257416-581A-4C42-85CC-B6EAD9DED97F</td>\n",
       "      <td>2</td>\n",
       "      <td>1315925633</td>\n",
       "      <td>392904</td>\n",
       "      <td>1315925633</td>\n",
       "      <td>392904</td>\n",
       "      <td>{\\n}</td>\n",
       "      <td>2001</td>\n",
       "      <td>B4</td>\n",
       "      <td>Aboulafia, Sandy</td>\n",
       "      <td>5</td>\n",
       "      <td>None</td>\n",
       "      <td>44</td>\n",
       "      <td>P</td>\n",
       "      <td>45410.00</td>\n",
       "      <td>0</td>\n",
       "      <td>0</td>\n",
       "      <td>45410.00</td>\n",
       "    </tr>\n",
       "    <tr>\n",
       "      <th>2</th>\n",
       "      <td>3</td>\n",
       "      <td>B80D7891-93CF-49E8-86E8-182B618E68F2</td>\n",
       "      <td>3</td>\n",
       "      <td>1315925633</td>\n",
       "      <td>392904</td>\n",
       "      <td>1315925633</td>\n",
       "      <td>392904</td>\n",
       "      <td>{\\n}</td>\n",
       "      <td>2001</td>\n",
       "      <td>445</td>\n",
       "      <td>Adams, Jackie R</td>\n",
       "      <td>5</td>\n",
       "      <td>None</td>\n",
       "      <td>7</td>\n",
       "      <td>P</td>\n",
       "      <td>11073.00</td>\n",
       "      <td>0</td>\n",
       "      <td>0</td>\n",
       "      <td>11073.00</td>\n",
       "    </tr>\n",
       "    <tr>\n",
       "      <th>3</th>\n",
       "      <td>4</td>\n",
       "      <td>BB012003-78F5-406D-8A87-7FF8A425EE3F</td>\n",
       "      <td>4</td>\n",
       "      <td>1315925633</td>\n",
       "      <td>392904</td>\n",
       "      <td>1315925633</td>\n",
       "      <td>392904</td>\n",
       "      <td>{\\n}</td>\n",
       "      <td>2001</td>\n",
       "      <td>HF</td>\n",
       "      <td>Addabbo, Joseph P</td>\n",
       "      <td>5</td>\n",
       "      <td>None</td>\n",
       "      <td>32</td>\n",
       "      <td>P</td>\n",
       "      <td>75350.00</td>\n",
       "      <td>73970.00</td>\n",
       "      <td>0</td>\n",
       "      <td>149320.00</td>\n",
       "    </tr>\n",
       "    <tr>\n",
       "      <th>4</th>\n",
       "      <td>5</td>\n",
       "      <td>945825F9-2F5D-47C2-A16B-75B93E61E1AD</td>\n",
       "      <td>5</td>\n",
       "      <td>1315925633</td>\n",
       "      <td>392904</td>\n",
       "      <td>1315925633</td>\n",
       "      <td>392904</td>\n",
       "      <td>{\\n}</td>\n",
       "      <td>2001</td>\n",
       "      <td>IR</td>\n",
       "      <td>Alamo-Estrada, Agustin</td>\n",
       "      <td>5</td>\n",
       "      <td>None</td>\n",
       "      <td>14</td>\n",
       "      <td>P</td>\n",
       "      <td>25000.00</td>\n",
       "      <td>2400.00</td>\n",
       "      <td>0</td>\n",
       "      <td>27400.00</td>\n",
       "    </tr>\n",
       "    <tr>\n",
       "      <th>...</th>\n",
       "      <td>...</td>\n",
       "      <td>...</td>\n",
       "      <td>...</td>\n",
       "      <td>...</td>\n",
       "      <td>...</td>\n",
       "      <td>...</td>\n",
       "      <td>...</td>\n",
       "      <td>...</td>\n",
       "      <td>...</td>\n",
       "      <td>...</td>\n",
       "      <td>...</td>\n",
       "      <td>...</td>\n",
       "      <td>...</td>\n",
       "      <td>...</td>\n",
       "      <td>...</td>\n",
       "      <td>...</td>\n",
       "      <td>...</td>\n",
       "      <td>...</td>\n",
       "      <td>...</td>\n",
       "    </tr>\n",
       "    <tr>\n",
       "      <th>280</th>\n",
       "      <td>281</td>\n",
       "      <td>C50E6A4C-BDE9-4F12-97F4-95D467013540</td>\n",
       "      <td>281</td>\n",
       "      <td>1315925633</td>\n",
       "      <td>392904</td>\n",
       "      <td>1315925633</td>\n",
       "      <td>392904</td>\n",
       "      <td>{\\n}</td>\n",
       "      <td>2001</td>\n",
       "      <td>537</td>\n",
       "      <td>Wilson, John H</td>\n",
       "      <td>5</td>\n",
       "      <td>None</td>\n",
       "      <td>13</td>\n",
       "      <td>P</td>\n",
       "      <td>0</td>\n",
       "      <td>0</td>\n",
       "      <td>0</td>\n",
       "      <td>0</td>\n",
       "    </tr>\n",
       "    <tr>\n",
       "      <th>281</th>\n",
       "      <td>282</td>\n",
       "      <td>04C6D19F-FF63-47B0-B26D-3B8F98B4C16B</td>\n",
       "      <td>282</td>\n",
       "      <td>1315925633</td>\n",
       "      <td>392904</td>\n",
       "      <td>1315925633</td>\n",
       "      <td>392904</td>\n",
       "      <td>{\\n}</td>\n",
       "      <td>2001</td>\n",
       "      <td>559</td>\n",
       "      <td>Wooten, Donald T</td>\n",
       "      <td>5</td>\n",
       "      <td>None</td>\n",
       "      <td>42</td>\n",
       "      <td>P</td>\n",
       "      <td>0</td>\n",
       "      <td>0</td>\n",
       "      <td>0</td>\n",
       "      <td>0</td>\n",
       "    </tr>\n",
       "    <tr>\n",
       "      <th>282</th>\n",
       "      <td>283</td>\n",
       "      <td>A451E0E9-D382-4A97-AAD8-D7D382055F8D</td>\n",
       "      <td>283</td>\n",
       "      <td>1315925633</td>\n",
       "      <td>392904</td>\n",
       "      <td>1315925633</td>\n",
       "      <td>392904</td>\n",
       "      <td>{\\n}</td>\n",
       "      <td>2001</td>\n",
       "      <td>280</td>\n",
       "      <td>Yassky, David</td>\n",
       "      <td>5</td>\n",
       "      <td>None</td>\n",
       "      <td>33</td>\n",
       "      <td>P</td>\n",
       "      <td>75350.00</td>\n",
       "      <td>75350.00</td>\n",
       "      <td>0</td>\n",
       "      <td>150700.00</td>\n",
       "    </tr>\n",
       "    <tr>\n",
       "      <th>283</th>\n",
       "      <td>284</td>\n",
       "      <td>E84BCD0C-D6F4-450F-B55B-3199A265C781</td>\n",
       "      <td>284</td>\n",
       "      <td>1315925633</td>\n",
       "      <td>392904</td>\n",
       "      <td>1315925633</td>\n",
       "      <td>392904</td>\n",
       "      <td>{\\n}</td>\n",
       "      <td>2001</td>\n",
       "      <td>274</td>\n",
       "      <td>Zapiti, Mike</td>\n",
       "      <td>5</td>\n",
       "      <td>None</td>\n",
       "      <td>22</td>\n",
       "      <td>P</td>\n",
       "      <td>12172.00</td>\n",
       "      <td>0</td>\n",
       "      <td>0</td>\n",
       "      <td>12172.00</td>\n",
       "    </tr>\n",
       "    <tr>\n",
       "      <th>284</th>\n",
       "      <td>285</td>\n",
       "      <td>5BBC9676-2119-4FB5-9DAB-DE3F71B7681A</td>\n",
       "      <td>285</td>\n",
       "      <td>1315925633</td>\n",
       "      <td>392904</td>\n",
       "      <td>1315925633</td>\n",
       "      <td>392904</td>\n",
       "      <td>{\\n}</td>\n",
       "      <td>2001</td>\n",
       "      <td>442</td>\n",
       "      <td>Zett, Lori M</td>\n",
       "      <td>5</td>\n",
       "      <td>None</td>\n",
       "      <td>24</td>\n",
       "      <td>P</td>\n",
       "      <td>0</td>\n",
       "      <td>0</td>\n",
       "      <td>0</td>\n",
       "      <td>0</td>\n",
       "    </tr>\n",
       "  </tbody>\n",
       "</table>\n",
       "<p>285 rows × 19 columns</p>\n",
       "</div>"
      ],
      "text/plain": [
       "     sid                                    id  position  created_at  \\\n",
       "0      1  E3E9CC9F-7443-43F6-94AF-B5A0F802DBA1         1  1315925633   \n",
       "1      2  9D257416-581A-4C42-85CC-B6EAD9DED97F         2  1315925633   \n",
       "2      3  B80D7891-93CF-49E8-86E8-182B618E68F2         3  1315925633   \n",
       "3      4  BB012003-78F5-406D-8A87-7FF8A425EE3F         4  1315925633   \n",
       "4      5  945825F9-2F5D-47C2-A16B-75B93E61E1AD         5  1315925633   \n",
       "..   ...                                   ...       ...         ...   \n",
       "280  281  C50E6A4C-BDE9-4F12-97F4-95D467013540       281  1315925633   \n",
       "281  282  04C6D19F-FF63-47B0-B26D-3B8F98B4C16B       282  1315925633   \n",
       "282  283  A451E0E9-D382-4A97-AAD8-D7D382055F8D       283  1315925633   \n",
       "283  284  E84BCD0C-D6F4-450F-B55B-3199A265C781       284  1315925633   \n",
       "284  285  5BBC9676-2119-4FB5-9DAB-DE3F71B7681A       285  1315925633   \n",
       "\n",
       "    created_meta  updated_at updated_meta  \\\n",
       "0         392904  1315925633       392904   \n",
       "1         392904  1315925633       392904   \n",
       "2         392904  1315925633       392904   \n",
       "3         392904  1315925633       392904   \n",
       "4         392904  1315925633       392904   \n",
       "..           ...         ...          ...   \n",
       "280       392904  1315925633       392904   \n",
       "281       392904  1315925633       392904   \n",
       "282       392904  1315925633       392904   \n",
       "283       392904  1315925633       392904   \n",
       "284       392904  1315925633       392904   \n",
       "\n",
       "                                                  meta ELECTION  CANDID  \\\n",
       "0    {\\n  \"invalidCells\" : {\\n    \"1519001\" : \"TOTA...     None  CANDID   \n",
       "1                                                 {\\n}     2001      B4   \n",
       "2                                                 {\\n}     2001     445   \n",
       "3                                                 {\\n}     2001      HF   \n",
       "4                                                 {\\n}     2001      IR   \n",
       "..                                                 ...      ...     ...   \n",
       "280                                               {\\n}     2001     537   \n",
       "281                                               {\\n}     2001     559   \n",
       "282                                               {\\n}     2001     280   \n",
       "283                                               {\\n}     2001     274   \n",
       "284                                               {\\n}     2001     442   \n",
       "\n",
       "                   CANDNAME OFFICECD  OFFICEBORO OFFICEDIST  CANCLASS  \\\n",
       "0                  CANDNAME     None  OFFICEBORO       None  CANCLASS   \n",
       "1          Aboulafia, Sandy        5        None         44         P   \n",
       "2           Adams, Jackie R        5        None          7         P   \n",
       "3         Addabbo, Joseph P        5        None         32         P   \n",
       "4    Alamo-Estrada, Agustin        5        None         14         P   \n",
       "..                      ...      ...         ...        ...       ...   \n",
       "280          Wilson, John H        5        None         13         P   \n",
       "281        Wooten, Donald T        5        None         42         P   \n",
       "282           Yassky, David        5        None         33         P   \n",
       "283            Zapiti, Mike        5        None         22         P   \n",
       "284            Zett, Lori M        5        None         24         P   \n",
       "\n",
       "    PRIMARYPAY GENERALPAY RUNOFFPAY   TOTALPAY  \n",
       "0         None       None      None       None  \n",
       "1     45410.00          0         0   45410.00  \n",
       "2     11073.00          0         0   11073.00  \n",
       "3     75350.00   73970.00         0  149320.00  \n",
       "4     25000.00    2400.00         0   27400.00  \n",
       "..         ...        ...       ...        ...  \n",
       "280          0          0         0          0  \n",
       "281          0          0         0          0  \n",
       "282   75350.00   75350.00         0  150700.00  \n",
       "283   12172.00          0         0   12172.00  \n",
       "284          0          0         0          0  \n",
       "\n",
       "[285 rows x 19 columns]"
      ]
     },
     "execution_count": 32,
     "metadata": {},
     "output_type": "execute_result"
    }
   ],
   "source": [
    "#Your code here\n",
    "import pandas as pd\n",
    "cols = [x['name'] for x in data['meta']['view']['columns']]\n",
    "df = pd.DataFrame(data['data'], columns=cols)\n",
    "df"
   ]
  },
  {
   "cell_type": "markdown",
   "metadata": {},
   "source": [
    "### What's wrong with the first row of the DataFrame?"
   ]
  },
  {
   "cell_type": "code",
   "execution_count": 30,
   "metadata": {},
   "outputs": [
    {
     "data": {
      "text/plain": [
       "'{\\n  \"invalidCells\" : {\\n    \"1519001\" : \"TOTALPAY\",\\n    \"1518998\" : \"PRIMARYPAY\",\\n    \"1519000\" : \"RUNOFFPAY\",\\n    \"1518999\" : \"GENERALPAY\",\\n    \"1518994\" : \"OFFICECD\",\\n    \"1518996\" : \"OFFICEDIST\",\\n    \"1518991\" : \"ELECTION\"\\n  }\\n}'"
      ]
     },
     "execution_count": 30,
     "metadata": {},
     "output_type": "execute_result"
    }
   ],
   "source": [
    "#Your code here\n",
    "df.meta.iloc[0]"
   ]
  },
  {
   "cell_type": "code",
   "execution_count": 33,
   "metadata": {},
   "outputs": [],
   "source": [
    "#Your answer here\n",
    "\n",
    "# There's an error message in the data? There isn't the expected set of data found in all the\n",
    "# other entries, and many of the entries are just the names of their respective columns."
   ]
  },
  {
   "cell_type": "markdown",
   "metadata": {},
   "source": [
    "## Summary\n",
    "\n",
    "Congratulations! You've started exploring some more JSON data structures used for the web and got to practice data munging and exploring!"
   ]
  }
 ],
 "metadata": {
  "kernelspec": {
   "display_name": "Python 3",
   "language": "python",
   "name": "python3"
  },
  "language_info": {
   "codemirror_mode": {
    "name": "ipython",
    "version": 3
   },
   "file_extension": ".py",
   "mimetype": "text/x-python",
   "name": "python",
   "nbconvert_exporter": "python",
   "pygments_lexer": "ipython3",
   "version": "3.6.9"
  },
  "toc": {
   "base_numbering": 1,
   "nav_menu": {},
   "number_sections": true,
   "sideBar": true,
   "skip_h1_title": false,
   "title_cell": "Table of Contents",
   "title_sidebar": "Contents",
   "toc_cell": false,
   "toc_position": {},
   "toc_section_display": true,
   "toc_window_display": false
  }
 },
 "nbformat": 4,
 "nbformat_minor": 2
}
